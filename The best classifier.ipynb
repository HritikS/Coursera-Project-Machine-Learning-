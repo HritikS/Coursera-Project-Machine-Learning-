{
    "nbformat_minor": 1, 
    "cells": [
        {
            "source": "## The Best Classifier Notebook", 
            "cell_type": "markdown", 
            "metadata": {
                "collapsed": true
            }
        }, 
        {
            "source": "Importing the data into a pandas dataframe", 
            "cell_type": "markdown", 
            "metadata": {}
        }, 
        {
            "source": "import types\nimport pandas as pd\nfrom botocore.client import Config\nimport ibm_boto3\n\ndef __iter__(self): return 0\n\n# @hidden_cell\n# The following code accesses a file in your IBM Cloud Object Storage. It includes your credentials.\n# You might want to remove those credentials before you share your notebook.\nclient_7497bda9f8cf4c90afde8a7070a8ad28 = ibm_boto3.client(service_name='s3',\n    ibm_api_key_id='zcT3AdF8Y9Qu7rbnFcEmeUOG41lPCbQv6yEJY_YPe74S',\n    ibm_auth_endpoint=\"https://iam.bluemix.net/oidc/token\",\n    config=Config(signature_version='oauth'),\n    endpoint_url='https://s3-api.us-geo.objectstorage.service.networklayer.com')\n\nbody = client_7497bda9f8cf4c90afde8a7070a8ad28.get_object(Bucket='thebestclassifier-donotdelete-pr-sz0vlejvz5iykg',Key='loan-prediction.csv')['Body']\n# add missing __iter__ method, so pandas accepts body as file-like object\nif not hasattr(body, \"__iter__\"): body.__iter__ = types.MethodType( __iter__, body )\n\ndata = pd.read_csv(body)\ndata.head()", 
            "cell_type": "code", 
            "metadata": {}, 
            "outputs": [
                {
                    "output_type": "execute_result", 
                    "data": {
                        "text/html": "<div>\n<style scoped>\n    .dataframe tbody tr th:only-of-type {\n        vertical-align: middle;\n    }\n\n    .dataframe tbody tr th {\n        vertical-align: top;\n    }\n\n    .dataframe thead th {\n        text-align: right;\n    }\n</style>\n<table border=\"1\" class=\"dataframe\">\n  <thead>\n    <tr style=\"text-align: right;\">\n      <th></th>\n      <th>Loan_ID</th>\n      <th>Gender</th>\n      <th>Married</th>\n      <th>Dependents</th>\n      <th>Education</th>\n      <th>Self_Employed</th>\n      <th>ApplicantIncome</th>\n      <th>CoapplicantIncome</th>\n      <th>LoanAmount</th>\n      <th>Loan_Amount_Term</th>\n      <th>Credit_History</th>\n      <th>Property_Area</th>\n      <th>Loan_Status</th>\n    </tr>\n  </thead>\n  <tbody>\n    <tr>\n      <th>0</th>\n      <td>LP001002</td>\n      <td>Male</td>\n      <td>No</td>\n      <td>0</td>\n      <td>Graduate</td>\n      <td>No</td>\n      <td>5849</td>\n      <td>0.0</td>\n      <td>NaN</td>\n      <td>360.0</td>\n      <td>1.0</td>\n      <td>Urban</td>\n      <td>Y</td>\n    </tr>\n    <tr>\n      <th>1</th>\n      <td>LP001003</td>\n      <td>Male</td>\n      <td>Yes</td>\n      <td>1</td>\n      <td>Graduate</td>\n      <td>No</td>\n      <td>4583</td>\n      <td>1508.0</td>\n      <td>128.0</td>\n      <td>360.0</td>\n      <td>1.0</td>\n      <td>Rural</td>\n      <td>N</td>\n    </tr>\n    <tr>\n      <th>2</th>\n      <td>LP001005</td>\n      <td>Male</td>\n      <td>Yes</td>\n      <td>0</td>\n      <td>Graduate</td>\n      <td>Yes</td>\n      <td>3000</td>\n      <td>0.0</td>\n      <td>66.0</td>\n      <td>360.0</td>\n      <td>1.0</td>\n      <td>Urban</td>\n      <td>Y</td>\n    </tr>\n    <tr>\n      <th>3</th>\n      <td>LP001006</td>\n      <td>Male</td>\n      <td>Yes</td>\n      <td>0</td>\n      <td>Not Graduate</td>\n      <td>No</td>\n      <td>2583</td>\n      <td>2358.0</td>\n      <td>120.0</td>\n      <td>360.0</td>\n      <td>1.0</td>\n      <td>Urban</td>\n      <td>Y</td>\n    </tr>\n    <tr>\n      <th>4</th>\n      <td>LP001008</td>\n      <td>Male</td>\n      <td>No</td>\n      <td>0</td>\n      <td>Graduate</td>\n      <td>No</td>\n      <td>6000</td>\n      <td>0.0</td>\n      <td>141.0</td>\n      <td>360.0</td>\n      <td>1.0</td>\n      <td>Urban</td>\n      <td>Y</td>\n    </tr>\n  </tbody>\n</table>\n</div>", 
                        "text/plain": "    Loan_ID Gender Married Dependents     Education Self_Employed  \\\n0  LP001002   Male      No          0      Graduate            No   \n1  LP001003   Male     Yes          1      Graduate            No   \n2  LP001005   Male     Yes          0      Graduate           Yes   \n3  LP001006   Male     Yes          0  Not Graduate            No   \n4  LP001008   Male      No          0      Graduate            No   \n\n   ApplicantIncome  CoapplicantIncome  LoanAmount  Loan_Amount_Term  \\\n0             5849                0.0         NaN             360.0   \n1             4583             1508.0       128.0             360.0   \n2             3000                0.0        66.0             360.0   \n3             2583             2358.0       120.0             360.0   \n4             6000                0.0       141.0             360.0   \n\n   Credit_History Property_Area Loan_Status  \n0             1.0         Urban           Y  \n1             1.0         Rural           N  \n2             1.0         Urban           Y  \n3             1.0         Urban           Y  \n4             1.0         Urban           Y  "
                    }, 
                    "execution_count": 63, 
                    "metadata": {}
                }
            ], 
            "execution_count": 63
        }, 
        {
            "source": "Dealing with the NaN", 
            "cell_type": "markdown", 
            "metadata": {}
        }, 
        {
            "source": "data.fillna(method='bfill',inplace=True)", 
            "cell_type": "code", 
            "metadata": {}, 
            "outputs": [], 
            "execution_count": 64
        }, 
        {
            "source": "Handling the categorical variables", 
            "cell_type": "markdown", 
            "metadata": {}
        }, 
        {
            "source": "x = pd.Categorical(data['Gender'])              \ndata['Gender']=x.codes\n\nx = pd.Categorical(data['Married'])              \ndata['Married']=x.codes\n\nx = pd.Categorical(data['Education'])            \ndata['Education']=x.codes\n\nx = pd.Categorical(data['Self_Employed'])        \ndata['Self_Employed']=x.codes\n\nx = pd.Categorical(data['Property_Area'])        \ndata['Property_Area']=x.codes\n\nx = pd.Categorical(data['Loan_Status'])          \ndata['Loan_Status'] = x.codes\n\ndata['Dependents'] = data['Dependents'].str.replace('+','')     \ndata['Dependents'] = pd.to_numeric(data['Dependents'])", 
            "cell_type": "code", 
            "metadata": {}, 
            "outputs": [], 
            "execution_count": 65
        }, 
        {
            "source": "Creating the independent and the dependent variables", 
            "cell_type": "markdown", 
            "metadata": {}
        }, 
        {
            "source": "Y = data['Loan_Status']\nX = data.drop(columns=['Loan_Status','Loan_ID'])", 
            "cell_type": "code", 
            "metadata": {}, 
            "outputs": [], 
            "execution_count": 66
        }, 
        {
            "source": "Using train_test_split for creating the training and the testing datasets", 
            "cell_type": "markdown", 
            "metadata": {}
        }, 
        {
            "source": "from sklearn.model_selection import train_test_split\nxtrain, xtest, ytrain, ytest = train_test_split(X, Y, test_size=0.3) ", 
            "cell_type": "code", 
            "metadata": {}, 
            "outputs": [], 
            "execution_count": 67
        }, 
        {
            "source": "## k-Nearest Neighbour", 
            "cell_type": "markdown", 
            "metadata": {}
        }, 
        {
            "source": "from sklearn.neighbors import KNeighborsClassifier\nfrom sklearn import metrics\nclf = KNeighborsClassifier(n_neighbors=5).fit(xtrain, ytrain)\nypred = clf.predict(xtest)\nprint(\"Jaccard index: \", metrics.jaccard_similarity_score(ytest, ypred, normalize=True))\nprint(\"F1-score: \", metrics.f1_score(ytest, ypred))\nprint(\"Log loss: \", metrics.log_loss(ytest, ypred))", 
            "cell_type": "code", 
            "metadata": {}, 
            "outputs": [
                {
                    "output_type": "stream", 
                    "name": "stdout", 
                    "text": "Jaccard index:  0.654054054054\nF1-score:  0.777777777778\nLog loss:  11.9487398463\n"
                }
            ], 
            "execution_count": 68
        }, 
        {
            "source": "## Decision Tree", 
            "cell_type": "markdown", 
            "metadata": {}
        }, 
        {
            "source": "from sklearn.tree import DecisionTreeClassifier\nclf = DecisionTreeClassifier(max_depth=4).fit(xtrain, ytrain)\nypred = clf.predict(xtest)\nprint(\"Jaccard index: \", metrics.jaccard_similarity_score(ytest, ypred, normalize=True))\nprint(\"F1-score: \", metrics.f1_score(ytest, ypred))\nprint(\"Log loss: \", metrics.log_loss(ytest, ypred))", 
            "cell_type": "code", 
            "metadata": {}, 
            "outputs": [
                {
                    "output_type": "stream", 
                    "name": "stdout", 
                    "text": "Jaccard index:  0.789189189189\nF1-score:  0.864111498258\nLog loss:  7.28128144282\n"
                }
            ], 
            "execution_count": 69
        }, 
        {
            "source": "## Support Vector Machine", 
            "cell_type": "markdown", 
            "metadata": {}
        }, 
        {
            "source": "from sklearn.svm import SVC \nclf = SVC().fit(xtrain, ytrain)\nypred = clf.predict(xtest)\nprint(\"Jaccard index: \", metrics.jaccard_similarity_score(ytest, ypred, normalize=True))\nprint(\"F1-score: \", metrics.f1_score(ytest, ypred))\nprint(\"Log loss: \", metrics.log_loss(ytest, ypred))", 
            "cell_type": "code", 
            "metadata": {}, 
            "outputs": [
                {
                    "output_type": "stream", 
                    "name": "stdout", 
                    "text": "Jaccard index:  0.718918918919\nF1-score:  0.835443037975\nLog loss:  9.70842136001\n"
                }
            ], 
            "execution_count": 70
        }, 
        {
            "source": "## Logistic Regression", 
            "cell_type": "markdown", 
            "metadata": {}
        }, 
        {
            "source": "from sklearn.linear_model import LogisticRegression \nclf = LogisticRegression().fit(xtrain, ytrain)\nypred = clf.predict(xtest)\nprint(\"Jaccard index: \", metrics.jaccard_similarity_score(ytest, ypred, normalize=True))\nprint(\"F1-score: \", metrics.f1_score(ytest, ypred))\nprint(\"Log loss: \", metrics.log_loss(ytest, ypred))", 
            "cell_type": "code", 
            "metadata": {}, 
            "outputs": [
                {
                    "output_type": "stream", 
                    "name": "stdout", 
                    "text": "Jaccard index:  0.832432432432\nF1-score:  0.891986062718\nLog loss:  5.78769544526\n"
                }
            ], 
            "execution_count": 71
        }
    ], 
    "metadata": {
        "kernelspec": {
            "display_name": "Python 3.5", 
            "name": "python3", 
            "language": "python"
        }, 
        "language_info": {
            "mimetype": "text/x-python", 
            "nbconvert_exporter": "python", 
            "version": "3.5.5", 
            "name": "python", 
            "pygments_lexer": "ipython3", 
            "file_extension": ".py", 
            "codemirror_mode": {
                "version": 3, 
                "name": "ipython"
            }
        }
    }, 
    "nbformat": 4
}